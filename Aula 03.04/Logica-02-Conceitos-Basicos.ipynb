{
 "cells": [
  {
   "cell_type": "markdown",
   "id": "a0dc4def-4c54-4bfe-a812-456e94b923fb",
   "metadata": {},
   "source": [
    "# Conceitos básicos\n",
    "\n",
    "Estes conceitos são fundamentais para que possamos entender como é composta cada linha do código usado em uma linguagem de programação."
   ]
  },
  {
   "cell_type": "markdown",
   "id": "7a84008a-54ad-48d4-b60d-398d743fcd9a",
   "metadata": {},
   "source": [
    "## Literais\n",
    "\n",
    "Literais são valores representados explicitamente no programa e que não mudam durante a execução. Podem ser números, valores lógicos, caracteres ou strings. (LIVI, EDELWEIS, 2014, pg. 26)\n"
   ]
  },
  {
   "cell_type": "markdown",
   "id": "4c69210d-1bd3-408b-8728-dd16105f490c",
   "metadata": {},
   "source": [
    "### Números"
   ]
  },
  {
   "cell_type": "code",
   "execution_count": null,
   "id": "255b98de-c340-421a-9259-c2340092599d",
   "metadata": {},
   "outputs": [],
   "source": [
    "# Inteiros\n",
    "10"
   ]
  },
  {
   "cell_type": "code",
   "execution_count": null,
   "id": "7d9f67a1-aa8c-49c6-bc4a-bc87fcc9cee3",
   "metadata": {},
   "outputs": [],
   "source": [
    "# Fracionários - chamados Reais ou de Ponto Flutuante\n",
    "\n",
    "10.2"
   ]
  },
  {
   "cell_type": "markdown",
   "id": "ef8cc4d3-cd5d-45a8-8001-e3ef7c41e8a0",
   "metadata": {},
   "source": [
    "### Valores Lógicos - ou, *booleanos*"
   ]
  },
  {
   "cell_type": "code",
   "execution_count": null,
   "id": "63e21951-b14e-4da1-99a8-785222736627",
   "metadata": {},
   "outputs": [],
   "source": [
    "True"
   ]
  },
  {
   "cell_type": "code",
   "execution_count": null,
   "id": "ccb0af6d-54a4-46ad-afd4-d6d805aed9a7",
   "metadata": {},
   "outputs": [],
   "source": [
    "False"
   ]
  },
  {
   "cell_type": "code",
   "execution_count": null,
   "id": "976073f5-0950-4bc7-a7e8-1a91713aad07",
   "metadata": {},
   "outputs": [],
   "source": [
    "# Um exemplo onde ocorrem \n",
    "# esses valores é em uma\n",
    "# comparação\n",
    "\n",
    "10 > 5\n",
    "\n",
    "# O resultado da comparação\n",
    "# é True (verdade) porque\n",
    "# é verdade que \n",
    "# 10 é maior que 5"
   ]
  },
  {
   "cell_type": "markdown",
   "id": "eb5c7212-41ce-4506-aa0c-4a77a9682482",
   "metadata": {},
   "source": [
    "### Caracteres e Strings\n",
    "\n",
    "Um *caracter* é qualquer letra, número ou símbolo que esteja sendo tratado como texto pelo programa. \n",
    "Strings são uma concatenação de caracteres - um ou mais caracteres colocados em sequência. \n",
    "\n",
    "Strings e caracteres são representados entre aspas simples ou duplas."
   ]
  },
  {
   "cell_type": "code",
   "execution_count": null,
   "id": "f6ac9e42-3f6b-4ebe-ab5a-f72e5da66d8e",
   "metadata": {},
   "outputs": [],
   "source": [
    "'a'"
   ]
  },
  {
   "cell_type": "code",
   "execution_count": null,
   "id": "14d0ce5e-5235-4524-82d9-b75b3b7ba410",
   "metadata": {},
   "outputs": [],
   "source": [
    "'1'"
   ]
  },
  {
   "cell_type": "code",
   "execution_count": null,
   "id": "a9ff0f9a-fcae-4232-9728-dacdba2b9066",
   "metadata": {},
   "outputs": [],
   "source": [
    "'@'"
   ]
  },
  {
   "cell_type": "code",
   "execution_count": null,
   "id": "c71d6061-9aa5-4102-ba72-ab68a773fb7c",
   "metadata": {},
   "outputs": [],
   "source": [
    "\"uma string de caracteres\""
   ]
  },
  {
   "cell_type": "code",
   "execution_count": null,
   "id": "80d369df-71d7-4289-8cbf-3794231de554",
   "metadata": {},
   "outputs": [],
   "source": [
    "'também uma string'"
   ]
  },
  {
   "cell_type": "code",
   "execution_count": null,
   "id": "4d58e5ab-653d-44b7-9481-4cb5a8a3cfba",
   "metadata": {},
   "outputs": [],
   "source": [
    "'## (51) 98877-1122'"
   ]
  },
  {
   "cell_type": "markdown",
   "id": "7416255a-b6ea-4288-a48b-8e4633488c95",
   "metadata": {},
   "source": [
    "## Identificadores\n",
    "\n",
    "São as palavras criadas pelo programador para denominar o próprio programa ou elementos\n",
    "dentro do mesmo, tais como: variáveis, constantes ou subprogramas. (LIVI, EDELWEIS, 2014, pg. 27)"
   ]
  },
  {
   "cell_type": "markdown",
   "id": "0ce14949-2891-4272-b5af-b1fa2080cb34",
   "metadata": {},
   "source": [
    "Quando damos um nome a uma variável, como fizemos na aula anterior, estamos criando um identificador."
   ]
  },
  {
   "cell_type": "code",
   "execution_count": 3,
   "id": "e2a4dda3-1268-4060-8218-b30bae20e151",
   "metadata": {},
   "outputs": [],
   "source": [
    "resposta = 10 * 5.000"
   ]
  },
  {
   "cell_type": "markdown",
   "id": "7d03c173-4615-48a9-a2dc-5c2cb4f4e032",
   "metadata": {},
   "source": [
    "agora podemos usar a palavra 'resposta' para identificar a variável que acabamos de declarar"
   ]
  },
  {
   "cell_type": "code",
   "execution_count": null,
   "id": "0cfaf532-16f3-40cb-b642-0992c349312a",
   "metadata": {},
   "outputs": [],
   "source": [
    "resposta\n"
   ]
  },
  {
   "cell_type": "code",
   "execution_count": 5,
   "id": "91e779ce",
   "metadata": {},
   "outputs": [
    {
     "data": {
      "text/plain": [
       "'Resposta: 50.0'"
      ]
     },
     "execution_count": 5,
     "metadata": {},
     "output_type": "execute_result"
    }
   ],
   "source": [
    "'Resposta: ' + str(resposta)"
   ]
  },
  {
   "cell_type": "markdown",
   "id": "f25a71db-717f-40f6-8d18-8b4bf67afee3",
   "metadata": {},
   "source": [
    "Depois, também vamos usar identificadores para dar nome a funções que criaremos\n",
    "\n",
    "Assim:"
   ]
  },
  {
   "cell_type": "code",
   "execution_count": null,
   "id": "78bd2378-7180-4d9e-962e-5eb594417f4e",
   "metadata": {},
   "outputs": [],
   "source": [
    "def uma_funcao():\n",
    "    print(10 * 6.000)"
   ]
  },
  {
   "cell_type": "markdown",
   "id": "68b95681-232c-4e79-9b88-dab9746edd94",
   "metadata": {},
   "source": [
    "Usamos a palavra 'uma_funcao' para identificar uma nova função que  estávamos definindo (note a palavra 'def') antes do nome da função.\n",
    "\n",
    "Agora podemos usar esse nome para nos referirmos a função"
   ]
  },
  {
   "cell_type": "code",
   "execution_count": null,
   "id": "fdd21036-051d-495e-9338-e7e579436c06",
   "metadata": {},
   "outputs": [],
   "source": [
    "uma_funcao()"
   ]
  },
  {
   "cell_type": "markdown",
   "id": "697541c2-011c-47b5-ba4d-e7ec9a73afa0",
   "metadata": {},
   "source": [
    "Observe esta recomendação porque ela será cobrada nos exercícios que estão no Moodle!\n",
    "\n",
    "> um identificador deve sempre iniciar por uma letra, seguida de qualquer número de letras e dígitos, incluindo o símbolo “_” (sublinhado), por ser essa a forma mais frequentemente utilizada em linguagens de programação. (LIVI, EDELWEIS, 2014, pg. 27)"
   ]
  },
  {
   "cell_type": "markdown",
   "id": "eac576c8-65e3-4440-8dff-ea382e575010",
   "metadata": {},
   "source": [
    "### Identificadores em Python\n",
    "\n",
    "A linguagem Python tem outras restrições para o uso de identificadores.\n",
    "\n",
    "- Devem começar com uma letra ou sublinhado\n",
    "- Devem ter no máximo 256 caracteres\n",
    "- Não podem conter símbolos matemáticos (+, -, *, / e parenteses)\n",
    "- Após o primeiro caracterer podem ser usados números, cifrão, sublinhado e letras\n",
    "- Não podem ter acentuação nem espaços em branco"
   ]
  },
  {
   "cell_type": "markdown",
   "id": "4b5fa90f-820e-4b32-b10a-a73551106fe7",
   "metadata": {},
   "source": [
    "## Palavras reservadas\n",
    "\n",
    "Você não pode usar como identificar nenhuma das palavras reservadas de uma linguagem. Elas são usadas para identificar comandos e outros elementos sintáticos da linguagem.\n",
    "\n",
    "No caso do Python, as palavras reservadas são 33:"
   ]
  },
  {
   "cell_type": "code",
   "execution_count": null,
   "id": "022fd58f-1041-44c9-b8dc-20e404d7e6f5",
   "metadata": {},
   "outputs": [],
   "source": [
    "import keyword\n",
    "keyword.kwlist"
   ]
  },
  {
   "cell_type": "markdown",
   "id": "6255f1d5-f15f-4bdd-ba7e-d0000a53f2be",
   "metadata": {},
   "source": [
    "## Símbolos especiais\n",
    "\n",
    "Símbolos especiais servem para delimitar ações, separar elementos, efetuar operações ou indicar ações específicas. (EDELWEIS, LIVI, 2014, pg. 28)\n"
   ]
  },
  {
   "cell_type": "markdown",
   "id": "f6088bcd-b852-4268-98d8-19bea3c952f9",
   "metadata": {},
   "source": [
    "Estes são alguns símbolos que têm significado especial na linguagem - pertencem à sintaxe da linguagem.\n",
    "\n",
    "- `#` – É usado para iniciar um linha de comentário\n",
    "\n",
    "- `\\n` – É usado em Strings para indicar uma quebra de linha (nova linha) \n",
    "- `\\` – A contrabarra é usada para quebrar uma linha de código, permitindo escrever em duas ou mais linhas uma linha de código muito longa para ser escrita em uma linha só\n",
    "- `;` – É usado para separar linhas de código quando elas são escritas em uma mesma linha de texto\n",
    "\n",
    "- `:` – Usado para indicar o início de um bloco de código\n",
    "\n",
    "Além de todos os símbolos usados para efetuar operações matemáticas básicas, como `+`, `-`, `*`, `/`, `(` e `)`, e também operações lógicas booleanas e com conjuntos, como `&` e `|` entre outros."
   ]
  }
 ],
 "metadata": {
  "kernelspec": {
   "display_name": "Python 3.10.5 64-bit (windows store)",
   "language": "python",
   "name": "python3"
  },
  "language_info": {
   "codemirror_mode": {
    "name": "ipython",
    "version": 3
   },
   "file_extension": ".py",
   "mimetype": "text/x-python",
   "name": "python",
   "nbconvert_exporter": "python",
   "pygments_lexer": "ipython3",
   "version": "3.13.2"
  },
  "vscode": {
   "interpreter": {
    "hash": "81d56cede9ef4caf6a61e146de670b37a2edead0ccb6294f4b93deebf2edb1a9"
   }
  }
 },
 "nbformat": 4,
 "nbformat_minor": 5
}
