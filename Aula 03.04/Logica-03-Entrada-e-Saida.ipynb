{
 "cells": [
  {
   "cell_type": "markdown",
   "metadata": {},
   "source": [
    "# Funções básicas de entrada e saída\n",
    "\n"
   ]
  },
  {
   "cell_type": "markdown",
   "metadata": {},
   "source": [
    "### Função <code>print()</code>"
   ]
  },
  {
   "cell_type": "markdown",
   "metadata": {},
   "source": [
    "Para mostrar na tela o valor de uma variável usamos a função <code>print()</code>.\n",
    "\n",
    "> *print* significa \"imprima\"\n",
    "\n",
    "Passamos como parâmetro para essa função a variável que queremos imprimir. `Imprimir`, neste caso, significa \"imprimir na tela\", não na impressora."
   ]
  },
  {
   "cell_type": "code",
   "execution_count": null,
   "metadata": {},
   "outputs": [],
   "source": [
    "# Imprima o valor de x\n",
    "print(x)"
   ]
  },
  {
   "cell_type": "markdown",
   "metadata": {},
   "source": [
    "Também podemos passar diretamente como parâmetro a String que queremos exibir na tela."
   ]
  },
  {
   "cell_type": "code",
   "execution_count": null,
   "metadata": {},
   "outputs": [],
   "source": [
    "print(\"Oi, oi, oi!\")"
   ]
  },
  {
   "cell_type": "markdown",
   "metadata": {},
   "source": [
    "## Formatação de Strings\n",
    "\n",
    "Podemos concatenar o valor de variáveis com o conteúdo de uma String para criar saídas mais complexas.\n",
    "\n",
    "Uma forma de fazer isso é usando as chamadas 'strings f' do Python.\n",
    "\n",
    "Para criar uma string-f:\n",
    "\n",
    "- prefixe com a letra `f` a declaração da String\n",
    "- dentro da String, coloque entre chaves (`{` e `}`) a variável que contém o valor que você quer concatenar com a String"
   ]
  },
  {
   "cell_type": "code",
   "execution_count": 2,
   "metadata": {},
   "outputs": [
    {
     "data": {
      "text/plain": [
       "'O total é: 100'"
      ]
     },
     "execution_count": 2,
     "metadata": {},
     "output_type": "execute_result"
    }
   ],
   "source": [
    "total = 100\n",
    "f'O total é: {total}'\n"
   ]
  },
  {
   "cell_type": "code",
   "execution_count": 4,
   "metadata": {},
   "outputs": [
    {
     "name": "stdout",
     "output_type": "stream",
     "text": [
      "Oi, Gustavo. Você tem 45 anos. aa\n"
     ]
    }
   ],
   "source": [
    "nome = 'Gustavo'\n",
    "idade = 45\n",
    "\n",
    "oi = f'Oi, {nome}. Você tem {idade} anos.'\n",
    "\n",
    "print(oi)"
   ]
  },
  {
   "cell_type": "markdown",
   "metadata": {},
   "source": [
    "Outra forma de concatenar valores em uma String é usando `,` para \"somar\" os valores passados como parâmetro para a função `print()`."
   ]
  },
  {
   "cell_type": "code",
   "execution_count": 7,
   "metadata": {},
   "outputs": [
    {
     "name": "stdout",
     "output_type": "stream",
     "text": [
      "O total é:  200\n"
     ]
    }
   ],
   "source": [
    "print('O total é: ', 200)"
   ]
  },
  {
   "cell_type": "markdown",
   "metadata": {},
   "source": [
    "### Função <code>input()</code>"
   ]
  },
  {
   "cell_type": "markdown",
   "metadata": {
    "slideshow": {
     "slide_type": "slide"
    }
   },
   "source": [
    "A *função* chamada <code>input()</code> é usada para recebermos dados via teclado.\n",
    "\n",
    "> *input* significa \"entrada\"\n",
    "\n",
    "Essa função pára a execução do programa e aguarda a entrada de dados via teclado."
   ]
  },
  {
   "cell_type": "code",
   "execution_count": null,
   "metadata": {},
   "outputs": [],
   "source": [
    "input()"
   ]
  },
  {
   "cell_type": "markdown",
   "metadata": {
    "slideshow": {
     "slide_type": "slide"
    }
   },
   "source": [
    "Após teclarmos *enter*/*return* os dados são enviados para o programa.\n",
    "\n",
    "A função <code>input()</code> é uma das funções daquele tipo que dão como resposta um valor ao programa que as chamou. \n",
    "Isso permite que esses valores de resposta sejam armazenados, por exemplo, em uma variável ou usados imediatamente pelo programa que chamou a função."
   ]
  },
  {
   "cell_type": "code",
   "execution_count": null,
   "metadata": {},
   "outputs": [],
   "source": [
    "nome = input()"
   ]
  },
  {
   "cell_type": "markdown",
   "metadata": {},
   "source": [
    "O valor recebido via teclado pela função <code>input()</code> foi retornado por ela ao programa que a chamou e armazenado pelo programa em uma nova variável chamada <code>nome</code> e guardado na memória.\n",
    "\n",
    "Podemos acessar esse valor usando o nome da variável."
   ]
  },
  {
   "cell_type": "code",
   "execution_count": null,
   "metadata": {},
   "outputs": [],
   "source": [
    "nome"
   ]
  },
  {
   "cell_type": "markdown",
   "metadata": {},
   "source": [
    "Além de um prompt que aguarda uma entrada do usuário, podemos mostrar também uma mensagem antes do prompt.\n",
    "\n",
    "Para isso, passe a String com a mensagem como parâmetro para `input()`."
   ]
  },
  {
   "cell_type": "code",
   "execution_count": 8,
   "metadata": {},
   "outputs": [
    {
     "name": "stdout",
     "output_type": "stream",
     "text": [
      "Olá, Gustavo!\n"
     ]
    }
   ],
   "source": [
    "nome = input('Qual seu nome?')\n",
    "\n",
    "print(f'Olá, {nome}!')"
   ]
  },
  {
   "cell_type": "markdown",
   "metadata": {},
   "source": [
    "## Exercícios I"
   ]
  },
  {
   "cell_type": "markdown",
   "metadata": {},
   "source": [
    "Já vimos as funções `print()` e `input()`. Agora vamos usar mais recursos dessas funções e aplicá-las para implementar algoritmos simples.\n"
   ]
  },
  {
   "cell_type": "markdown",
   "metadata": {},
   "source": [
    "\n",
    "Estes exercícios foram retirados das atividades do Moodle.\n",
    "\n",
    "1. Uma empresa da indústria automotiva recebeu como doação um forno para moldar ponteiras de eixo por calor, um equipamento importado muito antigo, que foi desenvolvido pelos funcionários de uma empresa americana. Esse equipamento utiliza um termômetro com a medida em Fahrenheit.\n",
    "\n",
    "    Em função da dificuldade encontrada pelos operadores em realizar a conversão que não faz parte da medida utilizada no Brasil, a empresa está buscando um programador para desenvolver um algoritmo que receba a temperatura do operador em graus Celsius, converta-a em Fahrenheit e exiba a informação em Fahrenheit para o operador do equipamento."
   ]
  },
  {
   "cell_type": "markdown",
   "metadata": {},
   "source": []
  },
  {
   "cell_type": "markdown",
   "metadata": {},
   "source": [
    "2. Uma empresa necessita calcular o salário reajustado do funcionário. Para isso, analise os algoritmos abaixo, e assinale o que traz as diretrizes solicitadas pela empresa listadas abaixo: ​​​​​​​-\n",
    "\n",
    "    O valor do salário bruto será informado pelo usuário.\n",
    "\n",
    "- Todos os funcionários recebem um bônus de 20% sobre o valor do salário bruto como presente de final de ano.\n",
    "\n",
    "- Após o acréscimo do bônus, deverá ser descontado o imposto de 7% do salário reajustado. Ao término do algoritmo, deverá ser impresso na tela o valor final do salário com o bônus e depois o valor reajustado do salário do funcionário.\n",
    "\n",
    "\n",
    "``` \n",
    "algoritmo \"calculo_salário\"\n",
    "\n",
    "var\n",
    "    salario_bruto , reajuste,bonus, salario_liquido: real\n",
    "inicio\n",
    "    escreva(\"Digite o salário bruto: \" )\n",
    "    leia(salario_bruto)\n",
    "    bonus <- (salario_bruto+(salario_bruto * (20/100)))\n",
    "    reajuste <- (bonus - (bonus*(7/100)))\n",
    "    escreval(\" O valor do salário com o bônus é: \" ,bonus)\n",
    "    escreval(\" O valor do salário com o desconto é: \" ,reajuste)\n",
    "fimAlgoritmo\n",
    "```"
   ]
  },
  {
   "cell_type": "code",
   "execution_count": null,
   "metadata": {},
   "outputs": [],
   "source": []
  },
  {
   "cell_type": "markdown",
   "metadata": {},
   "source": [
    "## Exercícios II"
   ]
  },
  {
   "cell_type": "markdown",
   "metadata": {},
   "source": [
    "Estes exercícios foram tirados do livro \"Algoritmos e Programação - com exemplos em Pascal e C\".\n",
    "\n",
    "Os algoritmos são apresentados em \"pseudocódigo\" e vamos implementá-los em Python usando o que vimos até agora."
   ]
  },
  {
   "cell_type": "markdown",
   "metadata": {},
   "source": [
    "- **3.1** Fazer um programa que recebe três notas de alunos e fornece, como saídas, as três notas lidas, sua soma e a média aritmética entre elas.\n",
    "\n",
    "**Algoritmo Média1**\n",
    "```\n",
    "{INFORMA A SOMA E A MÉDIA DAS 3 NOTAS DE UM ALUNO}\n",
    "Entradas: nota1, nota2, nota3 (real)\n",
    "Saídas: soma, média (real)\n",
    "\n",
    "início\n",
    "    ler (nota1, nota2, nota3)\n",
    "    escrever (nota1, nota2, nota3)\n",
    "    soma <- nota1 + nota2 + nota3\n",
    "    escrever (soma)\n",
    "    média <- soma/3\n",
    "    escrever (média)\n",
    "fim\n",
    "```"
   ]
  },
  {
   "cell_type": "code",
   "execution_count": null,
   "metadata": {},
   "outputs": [],
   "source": []
  },
  {
   "cell_type": "markdown",
   "metadata": {},
   "source": [
    "- **3.2** Dado o raio de um círculo, construir um algoritmo que calcule e informe seu perímetro e sua área\n",
    "\n",
    "    - fórmulas: \n",
    "\n",
    "        -  perímetro: 2 x pi x raio\n",
    "        - área: pi x raio²\n",
    "        \n",
    "\n",
    "\n",
    "**Algoritmo Circulo**\n",
    "\n",
    "```\n",
    "ler (raio)\n",
    "perimetro <- 2 * 3,14 * raio\n",
    "area <- 3,14 * (raio * raio)\n",
    "escrever (perimetro, area)\n",
    "```"
   ]
  },
  {
   "cell_type": "code",
   "execution_count": null,
   "metadata": {},
   "outputs": [],
   "source": []
  },
  {
   "cell_type": "markdown",
   "metadata": {},
   "source": [
    "- **3.5** Permutar o conteúdo de duas variáveis.\n",
    "\n",
    "Exemplo de uso de `variável auxiliar`\n",
    "\n",
    "```\n",
    "ler (a, b)\n",
    "aux <- a\n",
    "a <- b\n",
    "b <- aux\n",
    "escrever (a, b)\n",
    "```\n"
   ]
  }
 ],
 "metadata": {
  "kernelspec": {
   "display_name": "Python 3.10.5 64-bit (windows store)",
   "language": "python",
   "name": "python3"
  },
  "language_info": {
   "codemirror_mode": {
    "name": "ipython",
    "version": 3
   },
   "file_extension": ".py",
   "mimetype": "text/x-python",
   "name": "python",
   "nbconvert_exporter": "python",
   "pygments_lexer": "ipython3",
   "version": "3.10.5"
  },
  "orig_nbformat": 4,
  "vscode": {
   "interpreter": {
    "hash": "81d56cede9ef4caf6a61e146de670b37a2edead0ccb6294f4b93deebf2edb1a9"
   }
  }
 },
 "nbformat": 4,
 "nbformat_minor": 2
}
