{
 "cells": [
  {
   "cell_type": "markdown",
   "metadata": {},
   "source": [
    "# Strings\n",
    "\n",
    "Acabamos de usar Strings para exibir uma mensagem. Agora vamos ver o que são `Strings` e aprender a usá-las.\n",
    "\n",
    "## O quê é String?\n",
    "\n",
    "`String`, em inglês, significa *cordão*, *fio*, *filamento*... Para o computador, isso que estamos chamando de `Strings` são um \"filamento\" ou um \"enfileramento\" de caracteres: um caracter ou mais, um após o outro, formando um conjunto de caracteres com uma sequência bem definida.\n",
    "\n",
    "Strings são usadas principalmente para armazenar o que chamamos de `texto`. Nesse caso, *texto* é qualquer dado que seja composto por caracteres. Pode ser um endereço de email, um nome ou, até, um texto mesmo, com título e parágrafos, desde que seja um texto simples, como o de um arquivo .TXT.\n",
    "\n",
    "## Criando uma String em Python\n",
    "\n",
    "Para criar uma String em Python usamos **aspas simples** ou **aspas duplas**. Colocamos o texto entre as aspas e o Python vai interpretar isso como sendo uma String. Podemos usar uma String assim desse jeito mesmo ou então atribuí-la a uma variável para usarmos ela depois. Assim:"
   ]
  },
  {
   "cell_type": "code",
   "execution_count": null,
   "metadata": {},
   "outputs": [],
   "source": [
    "# exemplo de uma String em Python\n",
    "\n",
    "'Quer continuar (s/n)?'"
   ]
  },
  {
   "cell_type": "code",
   "execution_count": null,
   "metadata": {},
   "outputs": [],
   "source": [
    "# armazenando uma String em uma variável\n",
    "\n",
    "mensagem = 'Quer continuar (s/n)?'"
   ]
  },
  {
   "cell_type": "markdown",
   "metadata": {},
   "source": [
    "A variável chamada `mensagem` agora contém a string `'Quer continuar (s/n)?`. Da mesma forma como fizemos antes com os valores dos pontos da jogada, podemos agora usar essa variável para realizar operações com a string `'Quer continuar (s/n)?`.\n",
    "\n",
    "Por exemplo, podemos imprimir na tela essa string. Fazemos isso usando a função `print()` para exibir uma string contida na variável. Assim:"
   ]
  },
  {
   "cell_type": "code",
   "execution_count": null,
   "metadata": {},
   "outputs": [],
   "source": [
    "print(mensagem)"
   ]
  },
  {
   "cell_type": "markdown",
   "metadata": {},
   "source": [
    "Para criar uma string com mais de uma linha, existe uma sintaxe especial do Python. Escrevemos o texto entre 3 aspas simples (ou duplas, tanto faz).\n"
   ]
  },
  {
   "cell_type": "code",
   "execution_count": null,
   "metadata": {},
   "outputs": [],
   "source": [
    "'''\n",
    "Olá!\n",
    "Esta rodada já terminou. Você quer continuar?\n",
    "\n",
    "Responda S/n:\n",
    "'''"
   ]
  },
  {
   "cell_type": "markdown",
   "metadata": {},
   "source": [
    "### Um comentário sobre sintaxe e semântica"
   ]
  },
  {
   "cell_type": "markdown",
   "metadata": {},
   "source": [
    "\n",
    "Para atribuir essa string a uma variável, as aspas que iniciam a String devem ficar na mesma linha que a atribuição à variável.\n",
    "\n",
    "Observe a diferença executando os dois trechos de código abaixo."
   ]
  },
  {
   "cell_type": "code",
   "execution_count": null,
   "metadata": {},
   "outputs": [],
   "source": [
    "mensagem =\n",
    "'''\n",
    "Olá!\n",
    "Esta rodada já terminou. Você quer continuar?\n",
    "\n",
    "Responda S/n:\n",
    "'''\n"
   ]
  },
  {
   "cell_type": "markdown",
   "metadata": {},
   "source": [
    "O primeiro trecho de código não roda. O Python nos mostra uma mensagem de erro que diz `SyntaxError:` que significa `Erro de sintaxe`.\n",
    "\n",
    "> **Sintaxe** é a forma correta de escrever uma sentança em uma linguagem. Algumas formas não são válidas e por isso uma sentença escrita dessa forma não vai fazer sentido. \n",
    "\n",
    "Quando existe um erro de sintaxe o Python interrompe a execução do programa porque ele não consegue interpretar o que está escrito na linha.\n",
    "\n",
    "No caso do primeiro trecho de código, não fez sentido para o Python encontrar uma linha com uma sentença como aquela. O que ela está fazendo é:\n",
    "\n",
    "- pedir para o Python criar uma variável\n",
    "- e atribuir um valor a ela\n",
    "- mas não está dizendo qual é o valor a ser atribuído! \n",
    "\n",
    "Assim o Python não sabe o que fazer e pára."
   ]
  },
  {
   "cell_type": "code",
   "execution_count": null,
   "metadata": {},
   "outputs": [],
   "source": [
    "mensagem = '''\n",
    "Olá!\n",
    "Esta rodada já terminou. Você quer continuar?\n",
    "\n",
    "Responda S/n:\n",
    "'''\n"
   ]
  },
  {
   "cell_type": "markdown",
   "metadata": {},
   "source": [
    "O segundo trecho de código funciona porque a sintaxe é a correta.\n",
    "> O que determina se a sintaxe é correta ou não é a `gramática` da linguagem de programação que estamos usando.\n",
    "\n",
    "Essa gramática pode ser diferente em outras linguagens. Por isso, aprender uma linguagem de programção é, inicialmente, aprender sua gramática e como escrever sentenças válidas usando a linguagem, ou seja, como escrever linhas de código que podem ser executadas. \n",
    "\n",
    "> O resultado da execução de uma linha de código normalmente é chamado de resultado mesmo, mas ele é também seu `significado` ou, usando termo mais técnico, é a sua `semântica`.\n",
    "\n",
    "Por isso, é correto falar assim:\n",
    "\n",
    "- Qual é o resultado de `2 + 4`? O resultado é `6`. \n",
    "- O que quer dizer `2 + 4`? Quer dizer `6`.\n",
    "\n"
   ]
  },
  {
   "cell_type": "markdown",
   "metadata": {},
   "source": [
    "## Intercalando valores em Strings\n",
    "\n",
    "Podemos criar strings que contém caracteres e também variáveis. Essas strings são úteis para usarmos como modelos para a geração de outras strings."
   ]
  },
  {
   "cell_type": "markdown",
   "metadata": {},
   "source": [
    "No exemplo abaixo, observe o uso de um caracter especial `%s`. Esse caracter serve para marcar o local onde um valor será inserido na String depois."
   ]
  },
  {
   "cell_type": "code",
   "execution_count": 2,
   "metadata": {},
   "outputs": [
    {
     "name": "stdout",
     "output_type": "stream",
     "text": [
      "\n",
      "Fim da rodada, Mestre dos Magos. \n",
      "\n",
      "Quer continuar?\n",
      "(S)im / (N)ão\n",
      "\n"
     ]
    }
   ],
   "source": [
    "jogador = 'Mestre dos Magos'\n",
    "\n",
    "mensagem = '''\n",
    "Fim da rodada, %s. \n",
    "\n",
    "Quer continuar?\n",
    "(S)im / (N)ão\n",
    "'''\n",
    "\n",
    "print(mensagem % jogador)\n",
    "\n",
    "# Substitui %s por jogador\n",
    "# Usar ''' permite botar espaços entre o texto, se nao fica tudo na mesma linha ou tem q usar \\n"
   ]
  },
  {
   "cell_type": "markdown",
   "metadata": {},
   "source": [
    "Para inserir um valor no lugar de `%s` usamos um outro operador do Python, o operador `%`. Quando aplicado a uma string, esse operador executa uma operação de busca e substituição na String que está no lado esquerdo dele. O operador `%` vai procurar o marcador `%s` na string que está a sua esquerda e substituí-lo pelo valor que está a sua direita."
   ]
  },
  {
   "cell_type": "markdown",
   "metadata": {},
   "source": [
    "### Usando uma `tupla`\n",
    "\n",
    "Abaixo vemos um exemplo de como usar mais de uma marcação em uma string, para intercalar mais de um valor. A diferença é que precisamos passar para o operador `%` uma `tupla` como parâmetro.\n",
    "\n",
    "> Uma `tupla` é uma sequência de valores que tem uma posição fixa na sequência e que não podem ser alterados - ou seja, a sequência sempre mantém a ordem que ela tinha quando foi criada."
   ]
  },
  {
   "cell_type": "markdown",
   "metadata": {},
   "source": [
    "Uma `tupla` é criada colocando os valores que pertencerão a ela entre parênteses e separando eles por vírgula.\n",
    "\n",
    "No exemplo abaixo, a tupla de valores é:"
   ]
  },
  {
   "cell_type": "code",
   "execution_count": null,
   "metadata": {},
   "outputs": [],
   "source": [
    "(jogador, pontos)"
   ]
  },
  {
   "cell_type": "code",
   "execution_count": null,
   "metadata": {},
   "outputs": [],
   "source": [
    "jogador = 'Mestre dos Magos'\n",
    "pontos = 1953.5\n",
    "mensagem = '''\n",
    "Fim da rodada, %s. \n",
    "Você fez %s pontos.\n",
    "\n",
    "Quer continuar?\n",
    "\n",
    "(S)im / (N)ão\n",
    "'''\n",
    "\n",
    "print(mensagem % (jogador, pontos))"
   ]
  },
  {
   "cell_type": "markdown",
   "metadata": {},
   "source": [
    "Observe que a tupla contém valores de dois tipos diferentes: numérico (a pontuação) e String (o nome do jogador). Isso não é um problema para o Python. Podemos misturar sem erro tipos de dados diferentes nessas estruturas."
   ]
  },
  {
   "cell_type": "markdown",
   "metadata": {},
   "source": [
    "## Um exemplo com HTML\n",
    "\n"
   ]
  },
  {
   "cell_type": "markdown",
   "metadata": {},
   "source": [
    "Vamos trocar a função `print()` por uma que sabe como imprimir HTML. Ela não faz parte das funções padrão do Python e por isso precisamos **importar** o código dela para nosso programa para poder usá-la.\n",
    "\n",
    "> **importar** é trazer para nosso programa algum código já escrito e que está armazenado em uma **bilioteca** de código. "
   ]
  },
  {
   "cell_type": "markdown",
   "metadata": {},
   "source": [
    "Existem milhares de bibliotecas de código para o Python. Cada uma contém vários `pacotes`, que são coleções de funções prontas para serem reutilizadas.\n",
    "\n",
    "Neste próximo exemplo importamos uma função que que imprime HTML e que está no pacote `IPython.display`.\n",
    "\n",
    "> **IPython** é o nome do interpretador Python que está executando todos os trechos de código que escrevemos até agora e significa **Interactive Python**, que quer dizer **Python Interativo**. "
   ]
  },
  {
   "cell_type": "markdown",
   "metadata": {},
   "source": [
    "O comando do Python para importar bibliotecas é `import`. Quando queremos apenas alguns pacotes de uma biblioteca usamos o par de comandos `from` ... `import`, como na primeira linha do exemplo abaixo."
   ]
  },
  {
   "cell_type": "code",
   "execution_count": 6,
   "metadata": {},
   "outputs": [
    {
     "data": {
      "text/html": [
       "\n",
       "<center>\n",
       "<h2>Fim da rodada, Mestre dos Magos</h2>\n",
       "<h3>\n",
       "Você fez 1953.5 pontos.\n",
       "</h3>\n",
       "<img src='../img/mago-64px.png' />\n",
       "<br />\n",
       "Quer continuar ? <br />\n",
       "(S)im / (N)ão\n",
       "</center>\n"
      ],
      "text/plain": [
       "<IPython.core.display.HTML object>"
      ]
     },
     "execution_count": 6,
     "metadata": {},
     "output_type": "execute_result"
    }
   ],
   "source": [
    "# do pacote IPython.display importamos apenas HTML\n",
    "from IPython.display import HTML\n",
    "\n",
    "jogador = 'Mestre dos Magos'\n",
    "pontos = 1953.5\n",
    "\n",
    "# Substituímos a string da mensagem por um código HTML\n",
    "mensagem = '''\n",
    "<center>\n",
    "<h2>Fim da rodada, %s</h2>\n",
    "<h3>\n",
    "Você fez %s pontos.\n",
    "</h3>\n",
    "<img src='../img/mago-64px.png' />\n",
    "<br />\n",
    "Quer continuar ? <br />\n",
    "(S)im / (N)ão\n",
    "</center>\n",
    "'''\n",
    "# Imprimimos usando HTML() ao invés de print()\n",
    "HTML(mensagem % (jogador, pontos))\n"
   ]
  },
  {
   "cell_type": "markdown",
   "metadata": {},
   "source": [
    "Note que esse código HTML está sendo gerado dinamicamente. Ele não está fixado no código. A cada execução do código ele pode ter um resultado diferente.\n",
    "\n",
    "Vamos ver isso copiando o código que calcula a pontuação para dentro desse último exemplo que imprime HTML alterando variável que contém a pontuação. Vamos trocá-la pela variável `resultado`, que é calculada pela primeira parte do código."
   ]
  },
  {
   "cell_type": "code",
   "execution_count": null,
   "metadata": {},
   "outputs": [],
   "source": [
    "# Parte 1 \n",
    "# Código que calcula a pontuação\n",
    "#\n",
    "\n",
    "experiencia = 20\n",
    "pts_experiencia = 0.05\n",
    "pts_magia = 0.5\n",
    "robos = 2\n",
    "\n",
    "resultado = (robos * pts_experiencia) + (robos * pts_magia) + (robos * experiencia)\n",
    "\n",
    "# Não precisamos da linha com print() porque\n",
    "# vamos usar HTML()\n",
    "# print(f'Você ganhou {resultado} pontos!')\n",
    "\n",
    "# Parte 2\n",
    "# Código que imprime o HTML\n",
    "#\n",
    "\n",
    "# do pacote IPython.display importamos apenas HTML\n",
    "from IPython.display import HTML\n",
    "\n",
    "jogador = 'Mestre dos Magos'\n",
    "# retiramos esta linha porque vamos usar\n",
    "# a variável 'resultado' que foi calculada acima\n",
    "# pontos = 1953.5\n",
    "\n",
    "# Substituímos a string da mensagem por um código HTML\n",
    "mensagem = '''\n",
    "<center>\n",
    "<h2>Fim da rodada, %s</h2>\n",
    "<h3>\n",
    "Você fez %s pontos.\n",
    "</h3>\n",
    "<img src='img/mago-64px.png' />\n",
    "<br />\n",
    "Quer continuar ? <br />\n",
    "(S)im / (N)ão\n",
    "</center>\n",
    "'''\n",
    "# Imprimimos usando HTML() ao invés de print()\n",
    "# Aqui usamos a variável 'resultado' no lugar de 'pontos'\n",
    "# HTML(mensagem % (jogador, pontos))\n",
    "HTML(mensagem % (jogador, resultado))\n",
    "\n"
   ]
  },
  {
   "cell_type": "markdown",
   "metadata": {},
   "source": [
    "Para ver o HTML ser gerado dinamicamente, experimente mudar o valor das variáveis `experiencia`, `robos`, `pts_experiencia`, `pts_magia` e `jogador` no código acima e rodar ele novamente a cada alteração."
   ]
  },
  {
   "cell_type": "markdown",
   "metadata": {},
   "source": [
    "## Organizando o código"
   ]
  },
  {
   "cell_type": "markdown",
   "metadata": {},
   "source": [
    "Antes de continuar, vamos organizar um pouco o código e limpar os comentários do exemplo anterior. Assim:\n"
   ]
  },
  {
   "cell_type": "code",
   "execution_count": 1,
   "metadata": {},
   "outputs": [
    {
     "data": {
      "text/html": [
       "\n",
       "<center>\n",
       "<h2>Fim da rodada, Mestre dos Magos</h2>\n",
       "<h3>\n",
       "Você fez 41.1 pontos.\n",
       "</h3>\n",
       "<img src='img/mago-64px.png' />\n",
       "<br />\n",
       "Quer continuar ? <br />\n",
       "(S)im / (N)ão\n",
       "</center>\n"
      ],
      "text/plain": [
       "<IPython.core.display.HTML object>"
      ]
     },
     "execution_count": 1,
     "metadata": {},
     "output_type": "execute_result"
    }
   ],
   "source": [
    "from IPython.display import HTML\n",
    "\n",
    "jogador = 'Mestre dos Magos'\n",
    "\n",
    "experiencia = 20\n",
    "pts_experiencia = 0.05\n",
    "pts_magia = 0.5\n",
    "robos = 2\n",
    "\n",
    "mensagem = '''\n",
    "<center>\n",
    "<h2>Fim da rodada, %s</h2>\n",
    "<h3>\n",
    "Você fez %s pontos.\n",
    "</h3>\n",
    "<img src='img/mago-64px.png' />\n",
    "<br />\n",
    "Quer continuar ? <br />\n",
    "(S)im / (N)ão\n",
    "</center>\n",
    "'''\n",
    "\n",
    "resultado = (robos * pts_experiencia) + (robos * pts_magia) + (robos * experiencia)\n",
    "\n",
    "HTML(mensagem % (jogador, resultado))"
   ]
  },
  {
   "cell_type": "markdown",
   "metadata": {},
   "source": [
    "Esse é um exemplo de uma organização típica de código de um programa.\n",
    "\n",
    "- Primeiro escrevemos os `imports`\n",
    "- Depois declaramos as variáveis do programa\n",
    "- Depois escrevemos o código que manipula as variáveis, faz cálculos, executa funções...\n",
    "\n",
    "Fazemos isso para facilitar a leitura e a manutenção do código. É mais difícil, por exemplo, fazer uma substituição de uma variável por outra (como fizemos entre as variáveis `pontos` e `resultado`) se elas estiverem todas no mesmo trecho do código. Isso nem sempre é possível, dependendo do tamanho do programa."
   ]
  }
 ],
 "metadata": {
  "kernelspec": {
   "display_name": "Python 3.10.5 64-bit (windows store)",
   "language": "python",
   "name": "python3"
  },
  "language_info": {
   "codemirror_mode": {
    "name": "ipython",
    "version": 3
   },
   "file_extension": ".py",
   "mimetype": "text/x-python",
   "name": "python",
   "nbconvert_exporter": "python",
   "pygments_lexer": "ipython3",
   "version": "3.12.1"
  },
  "orig_nbformat": 4,
  "vscode": {
   "interpreter": {
    "hash": "81d56cede9ef4caf6a61e146de670b37a2edead0ccb6294f4b93deebf2edb1a9"
   }
  }
 },
 "nbformat": 4,
 "nbformat_minor": 2
}
