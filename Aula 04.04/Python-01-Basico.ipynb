{
 "cells": [
  {
   "cell_type": "markdown",
   "id": "e1d19ced-3f5c-4e57-aba7-d6b4ced7817c",
   "metadata": {},
   "source": [
    "# Python básico"
   ]
  },
  {
   "cell_type": "markdown",
   "id": "6e16d4b1-30f9-426c-859a-ae0babbb17d9",
   "metadata": {},
   "source": [
    "## Variáveis\n",
    "\n",
    "Variáveis são criadas na primeira vez que um valor é atribuído a elas. Não existe a etapa de \"declaração de variáveis\" como em outras linguagens.\n"
   ]
  },
  {
   "cell_type": "code",
   "execution_count": null,
   "id": "eb32b63e-3eec-49ab-9840-0748ea500ac0",
   "metadata": {},
   "outputs": [],
   "source": [
    "# a variável x é criada no momento que\n",
    "# atribuímos o valor 10 a ela\n",
    "x = 100 \n",
    "\n",
    "# imprime o conteúdo da variável x\n",
    "print(x)"
   ]
  },
  {
   "cell_type": "markdown",
   "id": "6a2a13ff-44d1-4331-b1d5-ac999aacfa1a",
   "metadata": {},
   "source": [
    "## Tipos de dados (mascaramento)\n",
    "\n",
    "As variáveis em Python podem conter qualquer tipo de valor. Elas não são \"tipadas\". Se quisermos atribuir um tipo a uma variável precisamos fazer um \"mascaramento\" (casting) de tipo.\n",
    "\n",
    "A variável x é criada mas agora seu tipo é String. Strings são uma cadeia de caracteres, como veremos adiante. Ou seja, aqui a variável x não contém um número inteiro - o número 10 - mas sim dois caracteres - o caracter 1 e caracter 0 - assim: '10'. Seu valor é, portanto, um texto e não um número."
   ]
  },
  {
   "cell_type": "code",
   "execution_count": null,
   "id": "8802a6ea-12ee-43d8-a9d0-25a3d5970c2c",
   "metadata": {},
   "outputs": [],
   "source": [
    "x = str(10)"
   ]
  },
  {
   "cell_type": "markdown",
   "id": "fa914468-bc3e-4e54-a029-82c803031346",
   "metadata": {},
   "source": [
    "Aqui a variável y armazena um valor numérico de tipo inteiro, um int."
   ]
  },
  {
   "cell_type": "code",
   "execution_count": null,
   "id": "11b82a34-5104-470a-b4a4-ed1aa937558d",
   "metadata": {},
   "outputs": [],
   "source": [
    "y = int(10)"
   ]
  },
  {
   "cell_type": "markdown",
   "id": "faa4b5da-40bf-49fd-af0c-3ee38ced9eda",
   "metadata": {},
   "source": [
    "\n",
    "Para saber qual o tipo de uma variável usamos a função <code>type()</code>"
   ]
  },
  {
   "cell_type": "code",
   "execution_count": null,
   "id": "7dae848f-1a80-4b9e-9910-5f6b7d7685db",
   "metadata": {},
   "outputs": [],
   "source": [
    "# imprime o tipo da variável x\n",
    "print(type(x))"
   ]
  },
  {
   "cell_type": "markdown",
   "id": "6806b5f1-26a3-4114-8c31-4159c6210e34",
   "metadata": {},
   "source": [
    "\n",
    "## Criando Strings\n",
    "\n",
    "Para criar uma string diretamente, sem fazer mascaramento de tipo, basta colocar o valor da string entre aspas duplas ou aspas simples."
   ]
  },
  {
   "cell_type": "markdown",
   "id": "a8cad5dc-e894-44a0-ab7b-df6719782245",
   "metadata": {},
   "source": [
    "No bloco de código abaixo, a variável chamada <code>texto</code> armazena a String <code>\"Oi, oi, oi!\"</code>.\n",
    "\n",
    "As aspas não fazem parte do valor da variável. Elas são parte da sintaxe do Python e são usadas apenas para indicar que o conteúdo que está entre elas é uma cadeia de caracteres, uma String."
   ]
  },
  {
   "cell_type": "code",
   "execution_count": null,
   "id": "351605a7-9ac5-4bdc-b89d-8d9d6e42efe2",
   "metadata": {},
   "outputs": [],
   "source": [
    "texto = \"Oi, oi, oi!\""
   ]
  },
  {
   "cell_type": "markdown",
   "id": "0b45acc0-896e-4b0b-b71b-b6924027e924",
   "metadata": {},
   "source": [
    "No próximo exemplo a variável <code>x</code> muda de tipo, tornando-se agora uma variável do tipo String.\n",
    "\n",
    "É o mesmo que no caso anterior. A variável x agora armazena a cadeia de caracteres <code>\"Oi, oi, oi\"</code> e por isso ela é uma String."
   ]
  },
  {
   "cell_type": "code",
   "execution_count": null,
   "id": "6e3f3c5c-ddf3-441d-a9eb-3e74f9c07818",
   "metadata": {},
   "outputs": [],
   "source": [
    "x = 'Oi, oi, oi'"
   ]
  },
  {
   "cell_type": "code",
   "execution_count": null,
   "id": "c4b538b8-6364-43e1-a87c-6cb1575b083e",
   "metadata": {},
   "outputs": [],
   "source": [
    "# Uma cadeia de caracteres\n",
    "# que forma a palavra Gustavo.\n",
    "nome = \"Gustavo\""
   ]
  },
  {
   "cell_type": "markdown",
   "id": "b8bc237e-d68b-429b-bcda-448354349172",
   "metadata": {},
   "source": [
    "## Atribuição múltipla de valores\n",
    "\n",
    "Podemos atribuir vários valores a variáveis diferens ao mesmo tempo, em uma só linha de código.\n"
   ]
  },
  {
   "cell_type": "markdown",
   "id": "b38c7e21-4c4f-49fe-a4bb-c5a6bcb4d831",
   "metadata": {},
   "source": [
    "Aqui vamos criar duas variáveis, chamadas nome e apelido. nome contém a string Gustavo\" e apelido contém a string \"profe\"."
   ]
  },
  {
   "cell_type": "code",
   "execution_count": null,
   "id": "cdf4d628-1b9d-4b4d-a486-4d529cf2ac85",
   "metadata": {},
   "outputs": [],
   "source": [
    "nome, apelido = \"Gustavo\", \"profe\"\n",
    "\n",
    "# essa linha é equivalente a:\n",
    "\n",
    "nome = \"Gustavo\"\n",
    "apelido = \"profe\""
   ]
  },
  {
   "cell_type": "markdown",
   "id": "1fd21e67-0aac-44bb-877d-56a7c7b437b1",
   "metadata": {},
   "source": [
    "\n",
    "## Tipos de dados comuns do Python\n",
    "\n",
    "Estes são alguns tipos de dado comuns do Python, separados em grupos:"
   ]
  },
  {
   "cell_type": "markdown",
   "id": "36994fd8-1930-412c-b159-fb24809e95cc",
   "metadata": {},
   "source": [
    "### Texto: <code>str</code>"
   ]
  },
  {
   "cell_type": "code",
   "execution_count": null,
   "id": "afbf8683-4361-414c-83c4-7003520f1c58",
   "metadata": {},
   "outputs": [],
   "source": [
    "nome = \"Gustavo\""
   ]
  },
  {
   "cell_type": "markdown",
   "id": "866a72c2-1a71-4daa-8366-c893686d1932",
   "metadata": {},
   "source": [
    "\n",
    "### Números: <code>int, float</code>"
   ]
  },
  {
   "cell_type": "code",
   "execution_count": null,
   "id": "04b2f5f2-216a-4939-987d-7cc865e50659",
   "metadata": {},
   "outputs": [],
   "source": [
    "x = 10 # este é um inteiro\n",
    "y = 10.5 # este é um float"
   ]
  },
  {
   "cell_type": "markdown",
   "id": "1211453e-e272-46bd-8208-36e3b844c300",
   "metadata": {},
   "source": [
    "### Lógicos: <code>bool</code>"
   ]
  },
  {
   "cell_type": "code",
   "execution_count": null,
   "id": "d94127f0-ad8f-47c6-8530-0545dd01024f",
   "metadata": {},
   "outputs": [],
   "source": [
    "pronto = True\n",
    "# Booleano com valor de verdade True (verdadeiro)\n",
    "\n",
    "acabou = False\n",
    "# booleano com valor Falso"
   ]
  },
  {
   "cell_type": "markdown",
   "id": "8554c69d-7209-49fd-9bb0-2a4b9e6d8fd1",
   "metadata": {},
   "source": [
    "\n",
    "### Sequências: <code>range, list</code>\n",
    "\n",
    "No exemplo, <code>nomes</code> é uma variável que armazena uma lista de strings\n"
   ]
  },
  {
   "cell_type": "code",
   "execution_count": 2,
   "id": "a370d2e9-2317-4a68-be21-8d79af6caca3",
   "metadata": {},
   "outputs": [],
   "source": [
    "nomes = [\"André\", \"Amanda\", \"Arthur\", \"Zé\"]"
   ]
  },
  {
   "cell_type": "code",
   "execution_count": 2,
   "id": "2fce8bbc",
   "metadata": {},
   "outputs": [
    {
     "data": {
      "text/plain": [
       "'Junior'"
      ]
     },
     "execution_count": 2,
     "metadata": {},
     "output_type": "execute_result"
    }
   ],
   "source": [
    "nome = [\"André\", [\"Junior\", \"Alisse\"]]\n",
    "nome[1][0]"
   ]
  },
  {
   "cell_type": "markdown",
   "id": "8355cea0-bee8-4c72-9530-9668135c9abf",
   "metadata": {},
   "source": [
    "Podemos acessar cada uma das strings dessa lista através de seu <code>índice</code>, que é a posição que a string ocupa na lista.\n",
    "\n",
    "O número dos <code>índices</code> de uma lista começa em <code>0</code> e vai entre os colchetes após o nome da variável."
   ]
  },
  {
   "cell_type": "code",
   "execution_count": null,
   "id": "e0bb74e8-eb19-40bd-96f1-0dcbcd524517",
   "metadata": {},
   "outputs": [
    {
     "data": {
      "text/plain": [
       "'André'"
      ]
     },
     "metadata": {},
     "output_type": "display_data"
    }
   ],
   "source": [
    "nomes = [\"André\", \"Amanda\", \"Arthur\", \"Zé\"]\n",
    "nomes[0] # imprime \"André\""
   ]
  },
  {
   "cell_type": "code",
   "execution_count": null,
   "id": "2517281b-daa6-48fd-b7ee-47d1c4b3f1bc",
   "metadata": {},
   "outputs": [
    {
     "data": {
      "text/plain": [
       "'Amanda'"
      ]
     },
     "metadata": {},
     "output_type": "display_data"
    }
   ],
   "source": [
    "nomes = [\"André\", \"Amanda\", \"Arthur\", \"Zé\"]\n",
    "nomes[1] # imprime \"Amanda\""
   ]
  },
  {
   "cell_type": "markdown",
   "id": "8fb37a90-0f9b-4c5e-becf-1acd3146d4a3",
   "metadata": {},
   "source": [
    "\n",
    "Abaixo vemos um exemplo da sintaxe usada para definir um intervalo de elementos de uma lista. Ou seja, como fazemos para acessar um pedaço da lista.\n",
    "\n",
    "Colocamos entre os colchetes um <code>índice inicial</code> e um <code>índice final</code> dos valores. Neste exemplo eles vão de 1 a 3.\n",
    "\n",
    "Execute o código e veja que o último valor não é incluído no intervalo. "
   ]
  },
  {
   "cell_type": "code",
   "execution_count": 22,
   "id": "5dfa6782-f505-4e3e-84c9-2490488e0f50",
   "metadata": {},
   "outputs": [
    {
     "data": {
      "text/plain": [
       "['Amanda', 'Arthur']"
      ]
     },
     "execution_count": 22,
     "metadata": {},
     "output_type": "execute_result"
    }
   ],
   "source": [
    "nomes = [\"André\", \"Amanda\", \"Arthur\", \"Zé\"]\n",
    "nomes[1:3] # Pega nomes da lista da posição 1 até a 3 (Não pega a 3)\n"
   ]
  },
  {
   "cell_type": "code",
   "execution_count": 23,
   "id": "cab9fb15",
   "metadata": {},
   "outputs": [
    {
     "data": {
      "text/plain": [
       "['Arthur', 'Zé']"
      ]
     },
     "execution_count": 23,
     "metadata": {},
     "output_type": "execute_result"
    }
   ],
   "source": [
    "nomes = [\"André\", \"Amanda\", \"Arthur\", \"Zé\"]\n",
    "nomes[2:] # Pega os nomes de 2 até o fim\n"
   ]
  },
  {
   "cell_type": "code",
   "execution_count": 24,
   "id": "46749e2f",
   "metadata": {},
   "outputs": [
    {
     "data": {
      "text/plain": [
       "'Zé'"
      ]
     },
     "execution_count": 24,
     "metadata": {},
     "output_type": "execute_result"
    }
   ],
   "source": [
    "nomes = [\"André\", \"Amanda\", \"Arthur\", \"Zé\"]\n",
    "nomes[-1] # Pega o ultimo valor da lista\n"
   ]
  },
  {
   "cell_type": "code",
   "execution_count": 25,
   "id": "69f73e1c",
   "metadata": {},
   "outputs": [
    {
     "data": {
      "text/plain": [
       "'Arthur'"
      ]
     },
     "execution_count": 25,
     "metadata": {},
     "output_type": "execute_result"
    }
   ],
   "source": [
    "nomes = [\"André\", \"Amanda\", \"Arthur\", \"Zé\"]\n",
    "nomes[-2] # Penultimo valor da lista"
   ]
  },
  {
   "cell_type": "code",
   "execution_count": 29,
   "id": "28a16700",
   "metadata": {},
   "outputs": [
    {
     "data": {
      "text/plain": [
       "['Zé', 'Arthur', 'Amanda', 'André']"
      ]
     },
     "execution_count": 29,
     "metadata": {},
     "output_type": "execute_result"
    }
   ],
   "source": [
    "nomes = [\"André\", \"Amanda\", \"Arthur\", \"Zé\"]\n",
    "nomes[::-1]"
   ]
  },
  {
   "cell_type": "code",
   "execution_count": null,
   "id": "a092b32a",
   "metadata": {},
   "outputs": [],
   "source": [
    "nomes = [\"André\", \"Amanda\", \"Arthur\", \"Zé\"]\n",
    "nomes[::-1][0:3]"
   ]
  },
  {
   "cell_type": "markdown",
   "id": "3e9f80f9-eef3-4975-bea8-df124f0e9bde",
   "metadata": {},
   "source": [
    "### Conjuntos: <code>set</code>\n",
    "\n",
    "Conjuntos são diferentes de listas porque os valores que fazem parte de um conjunto não podem se repetir e não estão ordenados.\n",
    "\n",
    "Usamos <code>chaves</code> para criar um conjunto"
   ]
  },
  {
   "cell_type": "code",
   "execution_count": 30,
   "id": "cbd3a0d0-a95e-4d50-b9d8-fc9d2a4965ea",
   "metadata": {},
   "outputs": [
    {
     "name": "stdout",
     "output_type": "stream",
     "text": [
      "{'André', 'Amanda', 'Zé'}\n"
     ]
    }
   ],
   "source": [
    "nomes = {\"André\", \"Amanda\", \"Zé\", \"Amanda\"} # Não podem se repetir e não estão ordenados\n",
    "print(nomes)"
   ]
  },
  {
   "cell_type": "markdown",
   "id": "1243bdf7-2225-407e-b852-de0256fce537",
   "metadata": {},
   "source": [
    "### Dicionário: <code>dict</code>\n",
    "\n",
    "Dicionários são usados para criar relações entre dois valores, que podem ser de qualquer tipo. Como em um dicionário de verdade, onde associamos um significado a uma palavra-chave.\n",
    "\n",
    "Abaixo, estamos criando um mapa que mapeia uma string (que contém um nome) a outra string (que contém um endereço)"
   ]
  },
  {
   "cell_type": "code",
   "execution_count": 32,
   "id": "2f41daf1-cc99-4b57-9546-b1b4d3dbfac5",
   "metadata": {},
   "outputs": [],
   "source": [
    "enderecos = {\n",
    "  \"André\": \"Porto Alegre\",\n",
    "  \"Amanda\": \"Cachoeirinha\",\n",
    "  \"Bernardo\": \"Canoas\"\n",
    "}"
   ]
  },
  {
   "cell_type": "markdown",
   "id": "a6b4a089-8693-4684-9d78-93a9bee14f6b",
   "metadata": {},
   "source": [
    "Observe que o que estamos chamando de <code>dicionários</code> são como tabelas que têm apenas duas colunas, onde a primeira coluna é a <code>chave</code> que usamos para indexar os valores que estão armazenados na segunda coluna - que é chamada de coluna dos <code>valores</code>\n",
    "\n",
    "Para acessar os valores de um Dicionário usamos a <code>chave</code> como índice e recebemos como resposta o <code>valor</code> associado a ela."
   ]
  },
  {
   "cell_type": "code",
   "execution_count": 35,
   "id": "33c79740-78e9-4727-a85a-82d2c40db7ea",
   "metadata": {},
   "outputs": [
    {
     "name": "stdout",
     "output_type": "stream",
     "text": [
      "Porto Alegre\n"
     ]
    }
   ],
   "source": [
    "# retorna o valor \"Cachoeirinha\" e\n",
    "#armazena ele na variável cidade\n",
    "cidade = enderecos[\"André\"]\n",
    "\n",
    "# imprime \"Cachoeirinha\"\n",
    "print(cidade)"
   ]
  }
 ],
 "metadata": {
  "kernelspec": {
   "display_name": "Python 3.10.5 64-bit (windows store)",
   "language": "python",
   "name": "python3"
  },
  "language_info": {
   "codemirror_mode": {
    "name": "ipython",
    "version": 3
   },
   "file_extension": ".py",
   "mimetype": "text/x-python",
   "name": "python",
   "nbconvert_exporter": "python",
   "pygments_lexer": "ipython3",
   "version": "3.12.1"
  },
  "vscode": {
   "interpreter": {
    "hash": "81d56cede9ef4caf6a61e146de670b37a2edead0ccb6294f4b93deebf2edb1a9"
   }
  }
 },
 "nbformat": 4,
 "nbformat_minor": 5
}
